{
 "cells": [
  {
   "cell_type": "markdown",
   "id": "f5257e26",
   "metadata": {},
   "source": [
    "ipynb extension can be used to open a python notebook file."
   ]
  },
  {
   "cell_type": "code",
   "execution_count": null,
   "id": "a1bfc1f8",
   "metadata": {},
   "outputs": [
    {
     "data": {
      "text/plain": [
       "array([[1., 1.]])"
      ]
     },
     "execution_count": 5,
     "metadata": {},
     "output_type": "execute_result"
    }
   ],
   "source": [
    "import numpy as np\n",
    "\n",
    "np.zeros(3) # Array of 3 zeros"
   ]
  },
  {
   "cell_type": "code",
   "execution_count": null,
   "id": "01c98371",
   "metadata": {},
   "outputs": [
    {
     "data": {
      "text/plain": [
       "array([[1., 1.],\n",
       "       [1., 1.],\n",
       "       [1., 1.]])"
      ]
     },
     "execution_count": 8,
     "metadata": {},
     "output_type": "execute_result"
    }
   ],
   "source": [
    "np.ones((3,2)) # 2D array. Input is a tuple"
   ]
  },
  {
   "cell_type": "code",
   "execution_count": 9,
   "id": "977bd452",
   "metadata": {},
   "outputs": [
    {
     "data": {
      "text/plain": [
       "array([1, 2, 3])"
      ]
     },
     "execution_count": 9,
     "metadata": {},
     "output_type": "execute_result"
    }
   ],
   "source": [
    "np.array([1, 2, 3])"
   ]
  },
  {
   "cell_type": "code",
   "execution_count": 11,
   "id": "4aa1cacb",
   "metadata": {},
   "outputs": [
    {
     "name": "stdout",
     "output_type": "stream",
     "text": [
      "[[1 2 3]\n",
      " [4 5 6]]\n"
     ]
    }
   ],
   "source": [
    "arr = np.array([[1, 2, 3], [4, 5, 6]])\n",
    "print(arr)"
   ]
  },
  {
   "cell_type": "code",
   "execution_count": 12,
   "id": "406764c8",
   "metadata": {},
   "outputs": [
    {
     "data": {
      "text/plain": [
       "(2, 3)"
      ]
     },
     "execution_count": 12,
     "metadata": {},
     "output_type": "execute_result"
    }
   ],
   "source": [
    "arr.shape"
   ]
  },
  {
   "cell_type": "code",
   "execution_count": null,
   "id": "6b015c0e",
   "metadata": {},
   "outputs": [
    {
     "name": "stdout",
     "output_type": "stream",
     "text": [
      "[[1 2]\n",
      " [3 4]\n",
      " [5 6]]\n"
     ]
    }
   ],
   "source": [
    "arr.shape = (3,2) # Tuple\n",
    "print(arr)"
   ]
  },
  {
   "cell_type": "code",
   "execution_count": null,
   "id": "681a6aa7",
   "metadata": {},
   "outputs": [
    {
     "name": "stdout",
     "output_type": "stream",
     "text": [
      "[1.         2.33333333 3.66666667 5.        ]\n"
     ]
    }
   ],
   "source": [
    "other_array = np.linspace(1,5,4) # Print 4 values in range of 1 - 4.\n",
    "print(other_array)"
   ]
  },
  {
   "cell_type": "code",
   "execution_count": null,
   "id": "c6eff150",
   "metadata": {},
   "outputs": [
    {
     "name": "stdout",
     "output_type": "stream",
     "text": [
      "[3 4 5]\n"
     ]
    }
   ],
   "source": [
    "simple_array = np.array([1, 2, 3])\n",
    "print(simple_array + 2)"
   ]
  },
  {
   "cell_type": "code",
   "execution_count": 25,
   "id": "9eb18a5f",
   "metadata": {},
   "outputs": [
    {
     "data": {
      "text/plain": [
       "array([ 5, 10, 15])"
      ]
     },
     "execution_count": 25,
     "metadata": {},
     "output_type": "execute_result"
    }
   ],
   "source": [
    "simple_array * 5"
   ]
  },
  {
   "cell_type": "code",
   "execution_count": 26,
   "id": "801b2b79",
   "metadata": {},
   "outputs": [
    {
     "data": {
      "text/plain": [
       "array([1, 4, 9])"
      ]
     },
     "execution_count": 26,
     "metadata": {},
     "output_type": "execute_result"
    }
   ],
   "source": [
    "simple_array * simple_array"
   ]
  },
  {
   "cell_type": "code",
   "execution_count": 27,
   "id": "ac18c396",
   "metadata": {},
   "outputs": [
    {
     "data": {
      "text/plain": [
       "14"
      ]
     },
     "execution_count": 27,
     "metadata": {},
     "output_type": "execute_result"
    }
   ],
   "source": [
    "simple_array @ simple_array # Dot product of 2 arrays. (1*1) + (2*2) + (3*3)"
   ]
  },
  {
   "cell_type": "code",
   "execution_count": null,
   "id": "5cb8c414",
   "metadata": {},
   "outputs": [
    {
     "name": "stdout",
     "output_type": "stream",
     "text": [
      "Sum:  6\n",
      "Mean:  2.0\n",
      "Std:  0.816496580927726\n",
      "Min:  1\n",
      "Max:  3\n",
      "ArgMin:  0\n",
      "ArgMax:  2\n"
     ]
    }
   ],
   "source": [
    "# Other Functions\n",
    "print(\"Sum: \",np.sum(simple_array))\n",
    "print(\"Mean: \",np.mean(simple_array))\n",
    "print(\"Std: \",np.std(simple_array))\n",
    "print(\"Min: \", np.min(simple_array))\n",
    "print(\"Max: \", np.max(simple_array))\n",
    "print(\"ArgMin: \", np.argmin(simple_array))\n",
    "print(\"ArgMax: \", np.argmax(simple_array)) # Position with highest value printed"
   ]
  },
  {
   "cell_type": "code",
   "execution_count": 36,
   "id": "d6e68283",
   "metadata": {},
   "outputs": [
    {
     "data": {
      "text/plain": [
       "array([ True,  True, False])"
      ]
     },
     "execution_count": 36,
     "metadata": {},
     "output_type": "execute_result"
    }
   ],
   "source": [
    "# Comparison\n",
    "simple_array < 3"
   ]
  },
  {
   "cell_type": "code",
   "execution_count": null,
   "id": "32fd6ebd",
   "metadata": {},
   "outputs": [
    {
     "data": {
      "text/plain": [
       "array([10, 10,  0])"
      ]
     },
     "execution_count": 37,
     "metadata": {},
     "output_type": "execute_result"
    }
   ],
   "source": [
    "np.where(simple_array < 3, 10, 0) # If simple_array < 3, set 10 to True values and 0 to False values.\n"
   ]
  },
  {
   "cell_type": "code",
   "execution_count": null,
   "id": "5902bd65",
   "metadata": {},
   "outputs": [
    {
     "data": {
      "text/plain": [
       "array([1, 2])"
      ]
     },
     "execution_count": 42,
     "metadata": {},
     "output_type": "execute_result"
    }
   ],
   "source": [
    "simple_array[:2] # Prints first 2 elements from the start"
   ]
  },
  {
   "cell_type": "code",
   "execution_count": null,
   "id": "e8e9f3fe",
   "metadata": {},
   "outputs": [],
   "source": []
  },
  {
   "cell_type": "code",
   "execution_count": null,
   "id": "bc21726b",
   "metadata": {},
   "outputs": [],
   "source": []
  }
 ],
 "metadata": {
  "kernelspec": {
   "display_name": "base",
   "language": "python",
   "name": "python3"
  },
  "language_info": {
   "codemirror_mode": {
    "name": "ipython",
    "version": 3
   },
   "file_extension": ".py",
   "mimetype": "text/x-python",
   "name": "python",
   "nbconvert_exporter": "python",
   "pygments_lexer": "ipython3",
   "version": "3.12.7"
  }
 },
 "nbformat": 4,
 "nbformat_minor": 5
}
